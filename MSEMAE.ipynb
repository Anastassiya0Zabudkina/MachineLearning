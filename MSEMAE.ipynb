{
 "cells": [
  {
   "cell_type": "code",
   "execution_count": null,
   "metadata": {},
   "outputs": [],
   "source": [
    "import numpy as np\n",
    "X = np.array([[-1, 1], [4, 1], [4, 1], [8, 1], [10, 1]])\n",
    "y = np.array([0, 4, 6, 8, 12])\n",
    "w = np.array([1, 0.85])\n",
    "\n",
    "e = y - X @ w\n",
    "\n",
    "mae = abs(e).mean()\n",
    "mse = (e**2).mean()\n",
    "print(mse)\n",
    "print(mae)"
   ]
  },
  {
   "cell_type": "code",
   "execution_count": null,
   "metadata": {},
   "outputs": [],
   "source": [
    "\n",
    "X = np.array([[2, 1], [4, 1], [7, 1]])\n",
    "w = np.array([-0.25, 7.5])\n",
    "y = np.array([6, 8, 5])\n",
    "\n",
    "# Расчёт невязок.\n",
    "e = y - X @ w\n",
    "print(e)\n",
    "\n",
    "# Подсчёт ошибки первым подходом.\n",
    "l_1 = (e**2).mean()\n",
    "print(l_1)\n",
    "\n",
    "# Подсчёт ошибки через норму.\n",
    "l_1 = np.linalg.norm(e**2, 1) / len(e)\n",
    "print(l_1)\n",
    "\n",
    "# Подсчёт ошибки вторым подходом.\n",
    "l_1 = abs(e).mean()\n",
    "print(l_1)\n",
    "\n",
    "# Подсчёт ошибки через норму.\n",
    "l_1 = np.linalg.norm(abs(e), 1) / len(e)\n",
    "print(l_1)\n"
   ]
  }
 ],
 "metadata": {
  "kernelspec": {
   "display_name": "Python 3",
   "language": "python",
   "name": "python3"
  },
  "language_info": {
   "codemirror_mode": {
    "name": "ipython",
    "version": 3
   },
   "file_extension": ".py",
   "mimetype": "text/x-python",
   "name": "python",
   "nbconvert_exporter": "python",
   "pygments_lexer": "ipython3",
   "version": "3.8.5"
  }
 },
 "nbformat": 4,
 "nbformat_minor": 4
}
