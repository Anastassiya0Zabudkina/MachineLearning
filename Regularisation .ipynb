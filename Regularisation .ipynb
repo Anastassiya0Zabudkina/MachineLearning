{
 "cells": [
  {
   "cell_type": "code",
   "execution_count": null,
   "metadata": {},
   "outputs": [],
   "source": [
    "import numpy as np\n",
    "from sklearn.linear_model import LinearRegression\n",
    "from sklearn.metrics import mean_squared_error\n",
    "from sklearn.linear_model import Lasso, Ridge\n",
    "# Не забудьте импортировать все необходимые инструменты\n",
    "\n",
    "X = np.genfromtxt('https://code.s3.yandex.net/Math/datasets/X.csv', delimiter=',')\n",
    "y = np.genfromtxt('https://code.s3.yandex.net/Math/datasets/y.csv', delimiter=',')\n",
    "X_test = np.genfromtxt('https://code.s3.yandex.net/Math/datasets/X_test.csv', delimiter=',')\n",
    "y_test = np.genfromtxt('https://code.s3.yandex.net/Math/datasets/y_test.csv', delimiter=',')\n",
    "\n",
    "\n",
    "model = LinearRegression() \n",
    "\n",
    "model.fit(X, y) \n",
    "\n",
    "y_pred = model.predict(X)\n",
    "print(mean_squared_error(y_pred, y))\n",
    "\n",
    "model = Ridge(alpha=1) # Выбираем модель\n",
    "\n",
    "model.fit(X, y) # Коэффициенты регрессии подбираются под данные\n",
    "\n",
    "print(mean_squared_error(model.predict(X_test), y_test))\n",
    "\n",
    "alpha = 1\n",
    "model = Lasso(alpha=alpha) # Выбираем модель\n",
    "model.fit(X, y) # Коэффициенты регрессии подбираются под данные\n",
    "print(mean_squared_error(model.predict(X_test), y_test))"
   ]
  }
 ],
 "metadata": {
  "kernelspec": {
   "display_name": "Python 3",
   "language": "python",
   "name": "python3"
  },
  "language_info": {
   "codemirror_mode": {
    "name": "ipython",
    "version": 3
   },
   "file_extension": ".py",
   "mimetype": "text/x-python",
   "name": "python",
   "nbconvert_exporter": "python",
   "pygments_lexer": "ipython3",
   "version": "3.8.5"
  }
 },
 "nbformat": 4,
 "nbformat_minor": 4
}
